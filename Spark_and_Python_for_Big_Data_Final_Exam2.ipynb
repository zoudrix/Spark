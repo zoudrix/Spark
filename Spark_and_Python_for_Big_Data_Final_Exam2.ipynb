{
 "cells": [
  {
   "cell_type": "markdown",
   "metadata": {
    "id": "1oU0KjnZKvYE"
   },
   "source": [
    "## Mahmoud Ali Group 4"
   ]
  },
  {
   "cell_type": "markdown",
   "metadata": {
    "id": "b16Tvz2AKvYK"
   },
   "source": [
    "![image.png](attachment:image.png)"
   ]
  },
  {
   "cell_type": "markdown",
   "metadata": {
    "id": "QOwErXa3hBTM"
   },
   "source": [
    "##### **Good luck with taking your exam. Keep working and make your dreams all come true. Seeing the results of all of your hard work will make this struggle worth it. We’re all thinking of you.** \n",
    "<b><font color='blue'>AI-PRO Spark Team ITI</font></b>"
   ]
  },
  {
   "cell_type": "markdown",
   "metadata": {
    "id": "KRfsrVx9KvYN"
   },
   "source": [
    "## Objective:\n",
    "- The objective from this project is to create a <b>Logistic Regression Classifier</b> to predict the <b>Stroke Condition</b>.\n",
    "- <b>Stoke</b> is a condition in which either the blood flow to the brain stops or blood flow is excessive.\n",
    "- It is required to obtain <b>ROC > 0.65</b>."
   ]
  },
  {
   "cell_type": "markdown",
   "metadata": {
    "id": "Hx5-PrpkKvYO"
   },
   "source": [
    "### Data:\n",
    "- Data is provided in csv format in a file named <b>healthcare-dataset-stroke-data.csv</b>"
   ]
  },
  {
   "cell_type": "markdown",
   "metadata": {
    "id": "O-oBu53BKvYO"
   },
   "source": [
    "### Column names and data types are as follow:\n",
    "- id, integer.\n",
    "- gender, string.\n",
    "- age, double.\n",
    "- hypertension, integer.\n",
    "- heart_disease, integer.\n",
    "- ever_married, string.\n",
    "- work_type, string.\n",
    "- Residence_type, string.\n",
    "- avg_glucose_level, double.\n",
    "- bmi, double.\n",
    "- smoking_status, string.\n",
    "- stroke, integer <b>(Target Label)</b>.\n",
    "If the person has stroke the stroke label value is <b>\"1\"</b> otherwise <b>\"0\"</b>."
   ]
  },
  {
   "cell_type": "markdown",
   "metadata": {
    "id": "gUxZnsqrmynW"
   },
   "source": [
    "## To perform this task follow the following guiding steps:"
   ]
  },
  {
   "cell_type": "markdown",
   "metadata": {
    "id": "apEFXx1NKvYQ"
   },
   "source": [
    "### Create a spark session and import the required libraries"
   ]
  },
  {
   "cell_type": "code",
   "execution_count": 3,
   "metadata": {
    "id": "fJMvGTXmKvYR"
   },
   "outputs": [],
   "source": [
    "from pyspark.sql import SparkSession\n",
    "spark = SparkSession.builder.appName(\"final Project\").getOrCreate()\n",
    "import pandas as pd \n",
    "import pyspark.sql.functions as F\n",
    "from pyspark.sql.types import DoubleType, StringType, StructType, StructField"
   ]
  },
  {
   "cell_type": "markdown",
   "metadata": {
    "id": "CPSE1m8cKvYU"
   },
   "source": [
    "### Create a data schema programatically"
   ]
  },
  {
   "cell_type": "code",
   "execution_count": 2,
   "metadata": {
    "colab": {
     "base_uri": "https://localhost:8080/"
    },
    "id": "ahoiS8IRK2gU",
    "outputId": "84ca519b-0ccd-4346-a2e2-2f4f2650789e"
   },
   "outputs": [
    {
     "name": "stdout",
     "output_type": "stream",
     "text": [
      "Collecting pyspark\n",
      "  Downloading pyspark-3.2.0.tar.gz (281.3 MB)\n",
      "\u001b[K     |████████████████████████████████| 281.3 MB 38 kB/s \n",
      "\u001b[?25hCollecting py4j==0.10.9.2\n",
      "  Downloading py4j-0.10.9.2-py2.py3-none-any.whl (198 kB)\n",
      "\u001b[K     |████████████████████████████████| 198 kB 65.9 MB/s \n",
      "\u001b[?25hBuilding wheels for collected packages: pyspark\n",
      "  Building wheel for pyspark (setup.py) ... \u001b[?25l\u001b[?25hdone\n",
      "  Created wheel for pyspark: filename=pyspark-3.2.0-py2.py3-none-any.whl size=281805912 sha256=115cdbd3caebffcbcc783720b6764c2ea08f1ed8a78714383b2a613b40bdb025\n",
      "  Stored in directory: /root/.cache/pip/wheels/0b/de/d2/9be5d59d7331c6c2a7c1b6d1a4f463ce107332b1ecd4e80718\n",
      "Successfully built pyspark\n",
      "Installing collected packages: py4j, pyspark\n",
      "Successfully installed py4j-0.10.9.2 pyspark-3.2.0\n"
     ]
    }
   ],
   "source": [
    "!pip install pyspark"
   ]
  },
  {
   "cell_type": "code",
   "execution_count": null,
   "metadata": {
    "id": "_uRIol_eKvYV"
   },
   "outputs": [],
   "source": []
  },
  {
   "cell_type": "code",
   "execution_count": null,
   "metadata": {
    "id": "2Eqtzl1PKvYV"
   },
   "outputs": [],
   "source": []
  },
  {
   "cell_type": "markdown",
   "metadata": {
    "id": "et_tbWLFKvYW"
   },
   "source": [
    "### Read the data using the standard DataReader (Key,Value) pairs format\n",
    "- Provide the schema and any other required options."
   ]
  },
  {
   "cell_type": "code",
   "execution_count": 5,
   "metadata": {
    "id": "tkjUu5wCKvYW"
   },
   "outputs": [],
   "source": [
    "df = spark.read.csv(\"/content/healthcare-dataset-stroke-data.csv\", header=\"true\", inferSchema=\"true\")"
   ]
  },
  {
   "cell_type": "markdown",
   "metadata": {
    "id": "zpXQ4zXuKvYX"
   },
   "source": [
    "### Explore the data \n",
    "#### You have to do the following:\n",
    "- Print the Schema.\n",
    "- Show the first 10 rows from the data.\n",
    "- Explore null values and show how many null values in each column.\n",
    "- Plot a count plot for the target label and <b>notice the graph</b>.\n",
    "- Perform any additional EDA you find useful."
   ]
  },
  {
   "cell_type": "code",
   "execution_count": 6,
   "metadata": {
    "colab": {
     "base_uri": "https://localhost:8080/"
    },
    "id": "iZ8UbzdDKvYY",
    "outputId": "dc6a68a2-9e7c-41e6-eecb-ce2cda0f8025"
   },
   "outputs": [
    {
     "name": "stdout",
     "output_type": "stream",
     "text": [
      "root\n",
      " |-- id: integer (nullable = true)\n",
      " |-- gender: string (nullable = true)\n",
      " |-- age: double (nullable = true)\n",
      " |-- hypertension: integer (nullable = true)\n",
      " |-- heart_disease: integer (nullable = true)\n",
      " |-- ever_married: string (nullable = true)\n",
      " |-- work_type: string (nullable = true)\n",
      " |-- Residence_type: string (nullable = true)\n",
      " |-- avg_glucose_level: double (nullable = true)\n",
      " |-- bmi: string (nullable = true)\n",
      " |-- smoking_status: string (nullable = true)\n",
      " |-- stroke: integer (nullable = true)\n",
      "\n"
     ]
    }
   ],
   "source": [
    "df.printSchema()"
   ]
  },
  {
   "cell_type": "code",
   "execution_count": 7,
   "metadata": {
    "colab": {
     "base_uri": "https://localhost:8080/"
    },
    "id": "5yobY13cKvYZ",
    "outputId": "075f1c68-f363-42c2-9ae3-beb93dedeaa4"
   },
   "outputs": [
    {
     "data": {
      "text/plain": [
       "[Row(id=9046, gender='Male', age=67.0, hypertension=0, heart_disease=1, ever_married='Yes', work_type='Private', Residence_type='Urban', avg_glucose_level=228.69, bmi='36.6', smoking_status='formerly smoked', stroke=1),\n",
       " Row(id=51676, gender='Female', age=61.0, hypertension=0, heart_disease=0, ever_married='Yes', work_type='Self-employed', Residence_type='Rural', avg_glucose_level=202.21, bmi='N/A', smoking_status='never smoked', stroke=1),\n",
       " Row(id=31112, gender='Male', age=80.0, hypertension=0, heart_disease=1, ever_married='Yes', work_type='Private', Residence_type='Rural', avg_glucose_level=105.92, bmi='32.5', smoking_status='never smoked', stroke=1),\n",
       " Row(id=60182, gender='Female', age=49.0, hypertension=0, heart_disease=0, ever_married='Yes', work_type='Private', Residence_type='Urban', avg_glucose_level=171.23, bmi='34.4', smoking_status='smokes', stroke=1),\n",
       " Row(id=1665, gender='Female', age=79.0, hypertension=1, heart_disease=0, ever_married='Yes', work_type='Self-employed', Residence_type='Rural', avg_glucose_level=174.12, bmi='24', smoking_status='never smoked', stroke=1),\n",
       " Row(id=56669, gender='Male', age=81.0, hypertension=0, heart_disease=0, ever_married='Yes', work_type='Private', Residence_type='Urban', avg_glucose_level=186.21, bmi='29', smoking_status='formerly smoked', stroke=1),\n",
       " Row(id=53882, gender='Male', age=74.0, hypertension=1, heart_disease=1, ever_married='Yes', work_type='Private', Residence_type='Rural', avg_glucose_level=70.09, bmi='27.4', smoking_status='never smoked', stroke=1),\n",
       " Row(id=10434, gender='Female', age=69.0, hypertension=0, heart_disease=0, ever_married='No', work_type='Private', Residence_type='Urban', avg_glucose_level=94.39, bmi='22.8', smoking_status='never smoked', stroke=1),\n",
       " Row(id=27419, gender='Female', age=59.0, hypertension=0, heart_disease=0, ever_married='Yes', work_type='Private', Residence_type='Rural', avg_glucose_level=76.15, bmi='N/A', smoking_status='Unknown', stroke=1),\n",
       " Row(id=60491, gender='Female', age=78.0, hypertension=0, heart_disease=0, ever_married='Yes', work_type='Private', Residence_type='Urban', avg_glucose_level=58.57, bmi='24.2', smoking_status='Unknown', stroke=1)]"
      ]
     },
     "execution_count": 7,
     "metadata": {},
     "output_type": "execute_result"
    }
   ],
   "source": [
    "df.head(10)"
   ]
  },
  {
   "cell_type": "code",
   "execution_count": 8,
   "metadata": {
    "id": "tjGOrsm1KvYa"
   },
   "outputs": [],
   "source": [
    "df = df.replace(('N/A'), None)"
   ]
  },
  {
   "cell_type": "code",
   "execution_count": 9,
   "metadata": {
    "colab": {
     "base_uri": "https://localhost:8080/"
    },
    "id": "0n_JAQUfKvYb",
    "outputId": "51f50691-81f6-4d2d-98d2-7be3f533c75e"
   },
   "outputs": [
    {
     "name": "stdout",
     "output_type": "stream",
     "text": [
      "+---+------+---+------------+-------------+------------+---------+--------------+-----------------+---+--------------+------+\n",
      "| id|gender|age|hypertension|heart_disease|ever_married|work_type|Residence_type|avg_glucose_level|bmi|smoking_status|stroke|\n",
      "+---+------+---+------------+-------------+------------+---------+--------------+-----------------+---+--------------+------+\n",
      "|  0|     0|  0|           0|            0|           0|        0|             0|                0|201|             0|     0|\n",
      "+---+------+---+------------+-------------+------------+---------+--------------+-----------------+---+--------------+------+\n",
      "\n"
     ]
    }
   ],
   "source": [
    "from pyspark.sql.functions import isnan, when, count, col\n",
    "\n",
    "df.select([count(when(isnan(c) | col(c).isNull(), c)).alias(c) for c in df.columns]).show()"
   ]
  },
  {
   "cell_type": "code",
   "execution_count": 10,
   "metadata": {
    "colab": {
     "base_uri": "https://localhost:8080/"
    },
    "id": "Lnxqwu7HKvYb",
    "outputId": "d2bd1268-202e-4f1b-aa33-40eca796a731"
   },
   "outputs": [
    {
     "name": "stdout",
     "output_type": "stream",
     "text": [
      "+-----+------+----+------------+-------------+------------+-------------+--------------+-----------------+----+---------------+------+\n",
      "|   id|gender| age|hypertension|heart_disease|ever_married|    work_type|Residence_type|avg_glucose_level| bmi| smoking_status|stroke|\n",
      "+-----+------+----+------------+-------------+------------+-------------+--------------+-----------------+----+---------------+------+\n",
      "| 9046|  Male|67.0|           0|            1|         Yes|      Private|         Urban|           228.69|36.6|formerly smoked|     1|\n",
      "|51676|Female|61.0|           0|            0|         Yes|Self-employed|         Rural|           202.21|null|   never smoked|     1|\n",
      "|31112|  Male|80.0|           0|            1|         Yes|      Private|         Rural|           105.92|32.5|   never smoked|     1|\n",
      "|60182|Female|49.0|           0|            0|         Yes|      Private|         Urban|           171.23|34.4|         smokes|     1|\n",
      "+-----+------+----+------------+-------------+------------+-------------+--------------+-----------------+----+---------------+------+\n",
      "only showing top 4 rows\n",
      "\n"
     ]
    }
   ],
   "source": [
    "df.show(4)"
   ]
  },
  {
   "cell_type": "markdown",
   "metadata": {
    "id": "r5xGGtlYKvYc"
   },
   "source": [
    "### Get the summary statistics of the age column\n",
    "- You will find the minimum age is about <b>0.08</b>.\n",
    "- Remove rows for the age below <b>2 years old</b>."
   ]
  },
  {
   "cell_type": "code",
   "execution_count": 11,
   "metadata": {
    "colab": {
     "base_uri": "https://localhost:8080/"
    },
    "id": "4tZRkKkRKvYc",
    "outputId": "821c2b52-45a9-4932-dc8e-64722692bf7e",
    "scrolled": false
   },
   "outputs": [
    {
     "name": "stdout",
     "output_type": "stream",
     "text": [
      "+-------+------------------+\n",
      "|summary|               age|\n",
      "+-------+------------------+\n",
      "|  count|              5110|\n",
      "|   mean|43.226614481409015|\n",
      "| stddev| 22.61264672311348|\n",
      "|    min|              0.08|\n",
      "|    max|              82.0|\n",
      "+-------+------------------+\n",
      "\n"
     ]
    }
   ],
   "source": [
    "df.describe('age').show()"
   ]
  },
  {
   "cell_type": "code",
   "execution_count": 12,
   "metadata": {
    "id": "C_EZTnRHKvYd"
   },
   "outputs": [],
   "source": [
    "df_filtered=df.filter(df['age']>2)"
   ]
  },
  {
   "cell_type": "code",
   "execution_count": 13,
   "metadata": {
    "colab": {
     "base_uri": "https://localhost:8080/"
    },
    "id": "Pvgxi39SKvYd",
    "outputId": "66bd2aec-4a37-4795-e42f-bd4962de48f3"
   },
   "outputs": [
    {
     "name": "stdout",
     "output_type": "stream",
     "text": [
      "+-------+------------------+------+-----------------+-------------------+-------------------+------------+---------+--------------+------------------+------------------+--------------+--------------------+\n",
      "|summary|                id|gender|              age|       hypertension|      heart_disease|ever_married|work_type|Residence_type| avg_glucose_level|               bmi|smoking_status|              stroke|\n",
      "+-------+------------------+------+-----------------+-------------------+-------------------+------------+---------+--------------+------------------+------------------+--------------+--------------------+\n",
      "|  count|              4935|  4935|             4935|               4935|               4935|        4935|     4935|          4935|              4935|              4740|          4935|                4935|\n",
      "|   mean| 36433.59675785208|  null|44.70982776089159|0.10091185410334347|0.05572441742654509|        null|     null|          null|106.52655927051633|29.257489451476793|          null|0.050253292806484294|\n",
      "| stddev|21199.206723326355|  null|21.56859737335159| 0.3012424941185687| 0.2294120122035269|        null|     null|          null| 45.74148573209455| 7.725760944683576|          null|  0.2184892963867755|\n",
      "|    min|                67|Female|              3.0|                  0|                  0|          No| Govt_job|         Rural|             55.12|              11.3|       Unknown|                   0|\n",
      "|    max|             72918| Other|             82.0|                  1|                  1|         Yes| children|         Urban|            271.74|              97.6|        smokes|                   1|\n",
      "+-------+------------------+------+-----------------+-------------------+-------------------+------------+---------+--------------+------------------+------------------+--------------+--------------------+\n",
      "\n"
     ]
    }
   ],
   "source": [
    "df_filtered.describe().show()"
   ]
  },
  {
   "cell_type": "markdown",
   "metadata": {
    "id": "OKr0Z21xKvYe"
   },
   "source": [
    "### Working with gender & smoking_status columns:\n",
    "- Select and show the gender & smoking_status columns\n",
    "- Get the distinct values for each column."
   ]
  },
  {
   "cell_type": "code",
   "execution_count": 14,
   "metadata": {
    "colab": {
     "base_uri": "https://localhost:8080/"
    },
    "id": "srh0oJmAKvYe",
    "outputId": "55e74344-9f39-4e09-a659-c0a1b7939ff9"
   },
   "outputs": [
    {
     "name": "stdout",
     "output_type": "stream",
     "text": [
      "+------+---------------+\n",
      "|gender| smoking_status|\n",
      "+------+---------------+\n",
      "|  Male|formerly smoked|\n",
      "|Female|   never smoked|\n",
      "|  Male|   never smoked|\n",
      "|Female|         smokes|\n",
      "|Female|   never smoked|\n",
      "|  Male|formerly smoked|\n",
      "|  Male|   never smoked|\n",
      "|Female|   never smoked|\n",
      "|Female|        Unknown|\n",
      "|Female|        Unknown|\n",
      "|Female|   never smoked|\n",
      "|Female|         smokes|\n",
      "|Female|         smokes|\n",
      "|  Male|        Unknown|\n",
      "|Female|   never smoked|\n",
      "|Female|   never smoked|\n",
      "|  Male|         smokes|\n",
      "|  Male|         smokes|\n",
      "|Female|   never smoked|\n",
      "|  Male|        Unknown|\n",
      "+------+---------------+\n",
      "only showing top 20 rows\n",
      "\n"
     ]
    }
   ],
   "source": [
    "df_filtered.select(\"gender\",\"smoking_status\").show()"
   ]
  },
  {
   "cell_type": "code",
   "execution_count": 15,
   "metadata": {
    "colab": {
     "base_uri": "https://localhost:8080/"
    },
    "id": "aLTbpdb_KvYe",
    "outputId": "0e9b11c4-c869-44dd-fcc1-30b08467c52f"
   },
   "outputs": [
    {
     "name": "stdout",
     "output_type": "stream",
     "text": [
      "+------+---------------+\n",
      "|gender| smoking_status|\n",
      "+------+---------------+\n",
      "|  Male|         smokes|\n",
      "|  Male|formerly smoked|\n",
      "| Other|formerly smoked|\n",
      "|Female|        Unknown|\n",
      "|  Male|        Unknown|\n",
      "|Female|formerly smoked|\n",
      "|  Male|   never smoked|\n",
      "|Female|         smokes|\n",
      "|Female|   never smoked|\n",
      "+------+---------------+\n",
      "\n"
     ]
    }
   ],
   "source": [
    "df_filtered.select(\"gender\",\"smoking_status\").distinct().show()"
   ]
  },
  {
   "cell_type": "code",
   "execution_count": 16,
   "metadata": {
    "colab": {
     "base_uri": "https://localhost:8080/"
    },
    "id": "aTB3g2dfKvYf",
    "outputId": "160c7454-ad47-4171-c2ab-73224068ab80"
   },
   "outputs": [
    {
     "name": "stdout",
     "output_type": "stream",
     "text": [
      "+------+\n",
      "|gender|\n",
      "+------+\n",
      "|Female|\n",
      "| Other|\n",
      "|  Male|\n",
      "+------+\n",
      "\n"
     ]
    }
   ],
   "source": [
    "df_filtered.select(\"gender\").distinct().show()"
   ]
  },
  {
   "cell_type": "code",
   "execution_count": 17,
   "metadata": {
    "colab": {
     "base_uri": "https://localhost:8080/"
    },
    "id": "dcL4SXx3KvYf",
    "outputId": "3ed60ab2-1251-4913-c2df-cb82e8f9d1fb"
   },
   "outputs": [
    {
     "name": "stdout",
     "output_type": "stream",
     "text": [
      "+---------------+\n",
      "| smoking_status|\n",
      "+---------------+\n",
      "|         smokes|\n",
      "|        Unknown|\n",
      "|   never smoked|\n",
      "|formerly smoked|\n",
      "+---------------+\n",
      "\n"
     ]
    }
   ],
   "source": [
    "df_filtered.select(\"smoking_status\").distinct().show()"
   ]
  },
  {
   "cell_type": "markdown",
   "metadata": {
    "id": "HQFPKukRLzbB"
   },
   "source": [
    "#### Change the string values of the columns into numerical values as follow:\n",
    "1. Gender column:\n",
    "    * Male = 1 \n",
    "    * Female = 0 \n",
    "    * Other = 0 \n",
    "2. Smoking Status column:\n",
    "  * never smoked = 0\n",
    "  * Unknown = 0.5\n",
    "  * formerly smoked = 0.75\n",
    "  * smokes = 1.0\n"
   ]
  },
  {
   "cell_type": "code",
   "execution_count": 18,
   "metadata": {
    "id": "S1OZsS3RKvYg"
   },
   "outputs": [],
   "source": [
    "dict_map={\n",
    "    \n",
    "    'Male' : 1,\n",
    "    'Female' : 0,\n",
    "    'Other' : 0,\n",
    "    \"never smoked\" : 0,\n",
    "    \"Unknown\" : 0.5,\n",
    "    'formerly smoked' : 0.75,\n",
    "    'smokes' : 1.0\n",
    "    \n",
    "    \n",
    "}"
   ]
  },
  {
   "cell_type": "code",
   "execution_count": 19,
   "metadata": {
    "id": "frjThBi2KvYh"
   },
   "outputs": [],
   "source": [
    "def impute_title(title):\n",
    "    return dict_map[title]"
   ]
  },
  {
   "cell_type": "code",
   "execution_count": 20,
   "metadata": {
    "id": "KIV_yY7XKvYh"
   },
   "outputs": [],
   "source": [
    "# dict_map_func = F.udf(lambda x: impute_title(x), DoubleType())\n",
    "# df_filtered = df_filtered.withColumn('Gender', dict_map_func('Gender'))"
   ]
  },
  {
   "cell_type": "markdown",
   "metadata": {
    "id": "B1PCA_kRKvYh"
   },
   "source": [
    "#### Show the output DataFrame\n",
    "- Select and show the gender & smoking_status columns after value changing.\n",
    "- Print schema for the new dataframe."
   ]
  },
  {
   "cell_type": "code",
   "execution_count": 21,
   "metadata": {
    "id": "4nnPAlq6KvYh"
   },
   "outputs": [],
   "source": [
    "df_filtered = df_filtered.replace('Male', '1')\n",
    "df_filtered = df_filtered.replace('Female', '0')\n",
    "df_filtered = df_filtered.replace('Other', '0')\n",
    "df_filtered = df_filtered.replace(\"Unknown\", '0.5')\n",
    "df_filtered = df_filtered.replace('formerly smoked', '0.75')\n",
    "df_filtered = df_filtered.replace('smokes', '1.0')\n",
    "df_filtered = df_filtered.replace('never smoked', '0')"
   ]
  },
  {
   "cell_type": "code",
   "execution_count": 22,
   "metadata": {
    "colab": {
     "base_uri": "https://localhost:8080/"
    },
    "id": "xViKx3FhKvYi",
    "outputId": "29e2c089-401e-420d-d589-c3f30e919bc8"
   },
   "outputs": [
    {
     "name": "stdout",
     "output_type": "stream",
     "text": [
      "+------+--------------+\n",
      "|Gender|smoking_status|\n",
      "+------+--------------+\n",
      "|     1|          0.75|\n",
      "|     0|             0|\n",
      "|     1|             0|\n",
      "|     0|           1.0|\n",
      "|     0|             0|\n",
      "|     1|          0.75|\n",
      "|     1|             0|\n",
      "|     0|             0|\n",
      "|     0|           0.5|\n",
      "|     0|           0.5|\n",
      "|     0|             0|\n",
      "|     0|           1.0|\n",
      "|     0|           1.0|\n",
      "|     1|           0.5|\n",
      "|     0|             0|\n",
      "|     0|             0|\n",
      "|     1|           1.0|\n",
      "|     1|           1.0|\n",
      "|     0|             0|\n",
      "|     1|           0.5|\n",
      "+------+--------------+\n",
      "only showing top 20 rows\n",
      "\n"
     ]
    }
   ],
   "source": [
    "df_filtered.createOrReplaceTempView('view')\n",
    "spark.sql(\"SELECT Gender,smoking_status from view\").show()"
   ]
  },
  {
   "cell_type": "code",
   "execution_count": 23,
   "metadata": {
    "colab": {
     "base_uri": "https://localhost:8080/"
    },
    "id": "eEHNQIokKvYi",
    "outputId": "9138b031-63d6-43fc-e18d-9ec3fed68c36"
   },
   "outputs": [
    {
     "name": "stdout",
     "output_type": "stream",
     "text": [
      "root\n",
      " |-- id: integer (nullable = true)\n",
      " |-- gender: string (nullable = true)\n",
      " |-- age: double (nullable = true)\n",
      " |-- hypertension: integer (nullable = true)\n",
      " |-- heart_disease: integer (nullable = true)\n",
      " |-- ever_married: string (nullable = true)\n",
      " |-- work_type: string (nullable = true)\n",
      " |-- Residence_type: string (nullable = true)\n",
      " |-- avg_glucose_level: double (nullable = true)\n",
      " |-- bmi: string (nullable = true)\n",
      " |-- smoking_status: string (nullable = true)\n",
      " |-- stroke: integer (nullable = true)\n",
      "\n"
     ]
    }
   ],
   "source": [
    "df_filtered.printSchema()"
   ]
  },
  {
   "cell_type": "code",
   "execution_count": 24,
   "metadata": {
    "id": "qV4Ej3OrKvYi"
   },
   "outputs": [],
   "source": [
    "df_filtered = df_filtered.withColumn(\"Gender\", df_filtered[\"Gender\"].cast(DoubleType()))\n",
    "df_filtered = df_filtered.withColumn(\"smoking_status\", df_filtered[\"smoking_status\"].cast(DoubleType()))\n",
    "df_filtered = df_filtered.withColumn(\"Bmi\", df_filtered[\"Bmi\"].cast(DoubleType()))"
   ]
  },
  {
   "cell_type": "code",
   "execution_count": 25,
   "metadata": {
    "colab": {
     "base_uri": "https://localhost:8080/"
    },
    "id": "kaK2MBRjKvYj",
    "outputId": "fa45eefb-f602-4133-879b-4974b9e80586"
   },
   "outputs": [
    {
     "name": "stdout",
     "output_type": "stream",
     "text": [
      "root\n",
      " |-- id: integer (nullable = true)\n",
      " |-- Gender: double (nullable = true)\n",
      " |-- age: double (nullable = true)\n",
      " |-- hypertension: integer (nullable = true)\n",
      " |-- heart_disease: integer (nullable = true)\n",
      " |-- ever_married: string (nullable = true)\n",
      " |-- work_type: string (nullable = true)\n",
      " |-- Residence_type: string (nullable = true)\n",
      " |-- avg_glucose_level: double (nullable = true)\n",
      " |-- Bmi: double (nullable = true)\n",
      " |-- smoking_status: double (nullable = true)\n",
      " |-- stroke: integer (nullable = true)\n",
      "\n"
     ]
    }
   ],
   "source": [
    "df_filtered.printSchema()"
   ]
  },
  {
   "cell_type": "markdown",
   "metadata": {
    "id": "qRz-25bLKvYj"
   },
   "source": [
    "### Deal with null value according to your data analysis."
   ]
  },
  {
   "cell_type": "code",
   "execution_count": 26,
   "metadata": {
    "id": "ekoHVw-tKvYk"
   },
   "outputs": [],
   "source": [
    "Mean = df_filtered.agg({'Bmi':'mean'}).collect()[0][0]\n",
    "df_filtered=df_filtered.fillna({'Bmi':Mean})"
   ]
  },
  {
   "cell_type": "code",
   "execution_count": 27,
   "metadata": {
    "colab": {
     "base_uri": "https://localhost:8080/"
    },
    "id": "zzewXMUhKvYk",
    "outputId": "fd8cc900-b4ab-4ef2-abf4-87072f18f96e"
   },
   "outputs": [
    {
     "name": "stdout",
     "output_type": "stream",
     "text": [
      "+---+------+---+------------+-------------+------------+---------+--------------+-----------------+---+--------------+------+\n",
      "| id|gender|age|hypertension|heart_disease|ever_married|work_type|Residence_type|avg_glucose_level|bmi|smoking_status|stroke|\n",
      "+---+------+---+------------+-------------+------------+---------+--------------+-----------------+---+--------------+------+\n",
      "|  0|     0|  0|           0|            0|           0|        0|             0|                0|  0|             0|     0|\n",
      "+---+------+---+------------+-------------+------------+---------+--------------+-----------------+---+--------------+------+\n",
      "\n"
     ]
    }
   ],
   "source": [
    "df_filtered.select([count(when(isnan(c) | col(c).isNull(), c)).alias(c) for c in df.columns]).show()"
   ]
  },
  {
   "cell_type": "markdown",
   "metadata": {
    "id": "Hl9WISbrKvYk"
   },
   "source": [
    "### Split the data into training and test dataframes:\n",
    "- 80% training and 20% test.\n",
    "- seed = 42.\n",
    "- Save each dataframe as a parquet file"
   ]
  },
  {
   "cell_type": "code",
   "execution_count": 28,
   "metadata": {
    "id": "omBtdtiQKvYl"
   },
   "outputs": [],
   "source": [
    "train,test=df_filtered.randomSplit([0.8, 0.2],seed=42)"
   ]
  },
  {
   "cell_type": "markdown",
   "metadata": {
    "id": "mtMGO9-sKvYl"
   },
   "source": [
    "### Read the saved Train and Test DataFrame:\n",
    "- Use the dataframes you read in the subsequent steps."
   ]
  },
  {
   "cell_type": "code",
   "execution_count": 29,
   "metadata": {
    "colab": {
     "base_uri": "https://localhost:8080/"
    },
    "id": "pBHb9QmzKvYl",
    "outputId": "829ef35b-39bf-4f87-bec1-38f6ec2e8251"
   },
   "outputs": [
    {
     "name": "stdout",
     "output_type": "stream",
     "text": [
      "+---+------+----+------------+-------------+------------+---------+--------------+-----------------+------------------+--------------+------+\n",
      "| id|Gender| age|hypertension|heart_disease|ever_married|work_type|Residence_type|avg_glucose_level|               Bmi|smoking_status|stroke|\n",
      "+---+------+----+------------+-------------+------------+---------+--------------+-----------------+------------------+--------------+------+\n",
      "| 67|   0.0|17.0|           0|            0|          No|  Private|         Urban|            92.97|29.257489451476793|          0.75|     0|\n",
      "| 77|   0.0|13.0|           0|            0|          No| children|         Rural|            85.81|              18.6|           0.5|     0|\n",
      "| 91|   0.0|42.0|           0|            0|          No|  Private|         Urban|            98.53|              18.5|           0.0|     0|\n",
      "| 99|   0.0|31.0|           0|            0|          No|  Private|         Urban|           108.89|              52.3|           0.5|     0|\n",
      "|121|   0.0|38.0|           0|            0|         Yes|  Private|         Urban|            91.44|29.257489451476793|           0.5|     0|\n",
      "+---+------+----+------------+-------------+------------+---------+--------------+-----------------+------------------+--------------+------+\n",
      "only showing top 5 rows\n",
      "\n"
     ]
    }
   ],
   "source": [
    "train.show(5)"
   ]
  },
  {
   "cell_type": "code",
   "execution_count": 30,
   "metadata": {
    "colab": {
     "base_uri": "https://localhost:8080/"
    },
    "id": "jKtQVbCeKvYl",
    "outputId": "442dc523-7719-48e3-91ba-8241e13deaf3"
   },
   "outputs": [
    {
     "name": "stdout",
     "output_type": "stream",
     "text": [
      "+---+------+----+------------+-------------+------------+---------+--------------+-----------------+----+--------------+------+\n",
      "| id|Gender| age|hypertension|heart_disease|ever_married|work_type|Residence_type|avg_glucose_level| Bmi|smoking_status|stroke|\n",
      "+---+------+----+------------+-------------+------------+---------+--------------+-----------------+----+--------------+------+\n",
      "| 84|   1.0|55.0|           0|            0|         Yes|  Private|         Urban|            89.17|31.5|           0.0|     0|\n",
      "|129|   0.0|24.0|           0|            0|          No|  Private|         Urban|            97.55|26.2|           0.0|     0|\n",
      "|156|   0.0|33.0|           0|            0|         Yes|  Private|         Rural|            86.97|42.2|           0.0|     0|\n",
      "|205|   0.0|43.0|           0|            0|         Yes|  Private|         Rural|            88.23|37.6|           0.5|     0|\n",
      "|259|   1.0|79.0|           0|            0|         Yes|  Private|         Urban|           198.79|24.9|           0.0|     0|\n",
      "+---+------+----+------------+-------------+------------+---------+--------------+-----------------+----+--------------+------+\n",
      "only showing top 5 rows\n",
      "\n"
     ]
    }
   ],
   "source": [
    "test.show(5)"
   ]
  },
  {
   "cell_type": "markdown",
   "metadata": {
    "id": "1FLGvVEIKvYm"
   },
   "source": [
    "### Create the model:\n",
    "- Perform feature engineering steps.\n",
    "- Create the logistic regression classifier.\n",
    "- Build the pipeline model that uses all feature engineering steps and the model.\n",
    "- Train the pipeline model using the trainig dataset."
   ]
  },
  {
   "cell_type": "code",
   "execution_count": 31,
   "metadata": {
    "colab": {
     "base_uri": "https://localhost:8080/"
    },
    "id": "U_kCTX56KvYm",
    "outputId": "d9b4fff0-0b9f-40c5-a448-b923fb81f321"
   },
   "outputs": [
    {
     "data": {
      "text/plain": [
       "['ever_married', 'work_type', 'Residence_type']"
      ]
     },
     "execution_count": 31,
     "metadata": {},
     "output_type": "execute_result"
    }
   ],
   "source": [
    "from pyspark.ml.feature import StringIndexer, OneHotEncoder\n",
    "categoricalCols = [field for (field, dataType) in df_filtered.dtypes\n",
    "                   if dataType == \"string\"]\n",
    "categoricalCols"
   ]
  },
  {
   "cell_type": "code",
   "execution_count": 32,
   "metadata": {
    "colab": {
     "base_uri": "https://localhost:8080/"
    },
    "id": "ByhCW5UwKvYm",
    "outputId": "3453514f-8f8a-4254-b59b-9a9cbe1223d8"
   },
   "outputs": [
    {
     "data": {
      "text/plain": [
       "['ever_married_Index', 'work_type_Index', 'Residence_type_Index']"
      ]
     },
     "execution_count": 32,
     "metadata": {},
     "output_type": "execute_result"
    }
   ],
   "source": [
    "indexOutputCols = [x + \"_Index\" for x in categoricalCols]\n",
    "indexOutputCols"
   ]
  },
  {
   "cell_type": "code",
   "execution_count": 33,
   "metadata": {
    "colab": {
     "base_uri": "https://localhost:8080/"
    },
    "id": "8kx0rto9KvYm",
    "outputId": "cb26350e-9799-483f-a402-8d6ac3ea2779"
   },
   "outputs": [
    {
     "data": {
      "text/plain": [
       "['ever_married_OHE', 'work_type_OHE', 'Residence_type_OHE']"
      ]
     },
     "execution_count": 33,
     "metadata": {},
     "output_type": "execute_result"
    }
   ],
   "source": [
    "oheOutputCols = [x + \"_OHE\" for x in categoricalCols]\n",
    "oheOutputCols"
   ]
  },
  {
   "cell_type": "code",
   "execution_count": 34,
   "metadata": {
    "id": "p6svTTpKKvYm"
   },
   "outputs": [],
   "source": [
    "stringIndexer = StringIndexer(inputCols=categoricalCols,\n",
    "                             outputCols=indexOutputCols,\n",
    "                             handleInvalid='skip')\n",
    "oheEncoder = OneHotEncoder(inputCols=indexOutputCols,\n",
    "                          outputCols=oheOutputCols)"
   ]
  },
  {
   "cell_type": "code",
   "execution_count": 35,
   "metadata": {
    "colab": {
     "base_uri": "https://localhost:8080/"
    },
    "id": "f_JzqeieKvYn",
    "outputId": "2e2ec41a-62f3-46ea-fccd-7ab6910d724b"
   },
   "outputs": [
    {
     "data": {
      "text/plain": [
       "['Gender', 'age', 'avg_glucose_level', 'Bmi', 'smoking_status']"
      ]
     },
     "execution_count": 35,
     "metadata": {},
     "output_type": "execute_result"
    }
   ],
   "source": [
    "numericCols = [field for (field,dataType) in df_filtered.dtypes\n",
    "              if ((dataType=='double')& (field!='stroke'))]\n",
    "numericCols"
   ]
  },
  {
   "cell_type": "code",
   "execution_count": 36,
   "metadata": {
    "colab": {
     "base_uri": "https://localhost:8080/"
    },
    "id": "69ev_fpUKvYn",
    "outputId": "1a7053fe-ac55-4469-bfe5-03a8cdc27830"
   },
   "outputs": [
    {
     "data": {
      "text/plain": [
       "['ever_married_OHE',\n",
       " 'work_type_OHE',\n",
       " 'Residence_type_OHE',\n",
       " 'Gender',\n",
       " 'age',\n",
       " 'avg_glucose_level',\n",
       " 'Bmi',\n",
       " 'smoking_status']"
      ]
     },
     "execution_count": 36,
     "metadata": {},
     "output_type": "execute_result"
    }
   ],
   "source": [
    "assemblerInputs = oheOutputCols + numericCols\n",
    "assemblerInputs"
   ]
  },
  {
   "cell_type": "code",
   "execution_count": 37,
   "metadata": {
    "id": "pYM05uQBKvYn"
   },
   "outputs": [],
   "source": [
    "from pyspark.ml.linalg import Vectors\n",
    "from pyspark.ml.feature import VectorAssembler"
   ]
  },
  {
   "cell_type": "code",
   "execution_count": 38,
   "metadata": {
    "id": "Vj6Vjk9BKvYn"
   },
   "outputs": [],
   "source": [
    "assembler = VectorAssembler(\n",
    "  inputCols=assemblerInputs,\n",
    "    outputCol=\"features\")"
   ]
  },
  {
   "cell_type": "code",
   "execution_count": 39,
   "metadata": {
    "id": "50nn6b4vKvYn"
   },
   "outputs": [],
   "source": [
    "from pyspark.ml.classification import LogisticRegression\n",
    "lr = LogisticRegression(labelCol='stroke',featuresCol='features')"
   ]
  },
  {
   "cell_type": "code",
   "execution_count": 40,
   "metadata": {
    "id": "pQeLBovTKvYo"
   },
   "outputs": [],
   "source": [
    "stages = [stringIndexer, oheEncoder,assembler, lr]"
   ]
  },
  {
   "cell_type": "code",
   "execution_count": 41,
   "metadata": {
    "id": "cStBqC98KvYp"
   },
   "outputs": [],
   "source": [
    "from pyspark.ml import Pipeline\n",
    "pipeline = Pipeline(stages=stages)\n",
    "pipelineModel = pipeline.fit(train)"
   ]
  },
  {
   "cell_type": "code",
   "execution_count": 42,
   "metadata": {
    "id": "2KFzlvtvKvYp"
   },
   "outputs": [],
   "source": [
    "predDF = pipelineModel.transform(test)"
   ]
  },
  {
   "cell_type": "code",
   "execution_count": 43,
   "metadata": {
    "colab": {
     "base_uri": "https://localhost:8080/"
    },
    "id": "Oq6Ztfr7KvYp",
    "outputId": "714f15fb-dffb-46e4-aedf-00c5a96a45e1"
   },
   "outputs": [
    {
     "name": "stdout",
     "output_type": "stream",
     "text": [
      "+---+------+----+------------+-------------+------------+---------+--------------+-----------------+----+--------------+------+------------------+---------------+--------------------+----------------+-------------+------------------+--------------------+--------------------+--------------------+----------+\n",
      "| id|Gender| age|hypertension|heart_disease|ever_married|work_type|Residence_type|avg_glucose_level| Bmi|smoking_status|stroke|ever_married_Index|work_type_Index|Residence_type_Index|ever_married_OHE|work_type_OHE|Residence_type_OHE|            features|       rawPrediction|         probability|prediction|\n",
      "+---+------+----+------------+-------------+------------+---------+--------------+-----------------+----+--------------+------+------------------+---------------+--------------------+----------------+-------------+------------------+--------------------+--------------------+--------------------+----------+\n",
      "| 84|   1.0|55.0|           0|            0|         Yes|  Private|         Urban|            89.17|31.5|           0.0|     0|               0.0|            0.0|                 0.0|   (1,[0],[1.0])|(4,[0],[1.0])|     (1,[0],[1.0])|[1.0,1.0,0.0,0.0,...|[3.19226095885189...|[0.96054200248049...|       0.0|\n",
      "|129|   0.0|24.0|           0|            0|          No|  Private|         Urban|            97.55|26.2|           0.0|     0|               1.0|            0.0|                 0.0|       (1,[],[])|(4,[0],[1.0])|     (1,[0],[1.0])|(11,[1,5,7,8,9],[...|[5.52459758346893...|[0.99602836379774...|       0.0|\n",
      "|156|   0.0|33.0|           0|            0|         Yes|  Private|         Rural|            86.97|42.2|           0.0|     0|               0.0|            0.0|                 1.0|   (1,[0],[1.0])|(4,[0],[1.0])|         (1,[],[])|(11,[0,1,7,8,9],[...|[5.08440382462164...|[0.99384553415640...|       0.0|\n",
      "|205|   0.0|43.0|           0|            0|         Yes|  Private|         Rural|            88.23|37.6|           0.5|     0|               0.0|            0.0|                 1.0|   (1,[0],[1.0])|(4,[0],[1.0])|         (1,[],[])|(11,[0,1,7,8,9,10...|[4.23423793370178...|[0.98571613633251...|       0.0|\n",
      "|259|   1.0|79.0|           0|            0|         Yes|  Private|         Urban|           198.79|24.9|           0.0|     0|               0.0|            0.0|                 0.0|   (1,[0],[1.0])|(4,[0],[1.0])|     (1,[0],[1.0])|[1.0,1.0,0.0,0.0,...|[0.70539181883288...|[0.66938212183873...|       0.0|\n",
      "+---+------+----+------------+-------------+------------+---------+--------------+-----------------+----+--------------+------+------------------+---------------+--------------------+----------------+-------------+------------------+--------------------+--------------------+--------------------+----------+\n",
      "only showing top 5 rows\n",
      "\n"
     ]
    }
   ],
   "source": [
    "predDF.show(5)"
   ]
  },
  {
   "cell_type": "code",
   "execution_count": 43,
   "metadata": {
    "id": "2ic0Dp0ZKvYq"
   },
   "outputs": [],
   "source": []
  },
  {
   "cell_type": "markdown",
   "metadata": {
    "id": "4km8ikIxKvYq"
   },
   "source": [
    "### Perform predictions on tests dataframe:\n",
    "- Test the model using the test dataframe\n",
    "- Select and show the feature column.\n",
    "- Print the schema of the output dataframe.\n",
    "- Select and show both prediction and label columns.\n",
    "- Explore the results for the label column stroke=1. i.e. select both columns (prediction,stroke) for stroke=1.<b>notice the result.</b> \n",
    "- Count the predicted 1 and 0 values.<b>notice the result.</b>   "
   ]
  },
  {
   "cell_type": "code",
   "execution_count": 43,
   "metadata": {
    "id": "gMP6gXWXKvYq"
   },
   "outputs": [],
   "source": []
  },
  {
   "cell_type": "code",
   "execution_count": 43,
   "metadata": {
    "id": "kRmHfNtJKvYq"
   },
   "outputs": [],
   "source": []
  },
  {
   "cell_type": "code",
   "execution_count": 43,
   "metadata": {
    "id": "32TM0vBzKvYr",
    "scrolled": false
   },
   "outputs": [],
   "source": []
  },
  {
   "cell_type": "markdown",
   "metadata": {
    "id": "2uUNRn3SKvYr"
   },
   "source": [
    "### Evaluate the model performance\n",
    "- Use <b>BinaryClassificationEvaluator</b>. This will calculate the <b>ROC</b>.\n",
    "- Set the parameters as follow:\n",
    "    - <b>rawPredictionCol='prediction'</b> and <b>labelCol='stroke'</b>"
   ]
  },
  {
   "cell_type": "code",
   "execution_count": 44,
   "metadata": {
    "id": "Sm_BJ4vKKvYr"
   },
   "outputs": [],
   "source": [
    "from pyspark.ml.evaluation import BinaryClassificationEvaluator"
   ]
  },
  {
   "cell_type": "code",
   "execution_count": 45,
   "metadata": {
    "id": "CjlmtZ4YKvYr"
   },
   "outputs": [],
   "source": [
    "evaluatorROC = BinaryClassificationEvaluator(rawPredictionCol='prediction'\n",
    "                                             ,labelCol='stroke')"
   ]
  },
  {
   "cell_type": "code",
   "execution_count": 46,
   "metadata": {
    "colab": {
     "base_uri": "https://localhost:8080/"
    },
    "id": "HzxLl-SSKvYr",
    "outputId": "8f78c359-1ec7-47fc-b8ff-92e868249892"
   },
   "outputs": [
    {
     "data": {
      "text/plain": [
       "0.4994475138121547"
      ]
     },
     "execution_count": 46,
     "metadata": {},
     "output_type": "execute_result"
    }
   ],
   "source": [
    "evaluatorROC.evaluate(predDF)"
   ]
  },
  {
   "cell_type": "markdown",
   "metadata": {
    "id": "kLy5ll_ZKvYs"
   },
   "source": [
    "### Improve Model Performance\n",
    "- You may noticed that <b>the target label is imbalanced</b>.\n",
    "- LogisticRegression classifier has a special parameter <b>weightCol</b> to deal with imbalanced class.\n",
    "- In order to use this parameter you must have a <b>weightCol</b> in your training dataframe.\n",
    "- In order to create this column you will need to define a <b>UDF</b> and apply it to the target label column.\n",
    "- Create a LogisticRegression classifier with <b>weightCol</b> parameter.\n",
    "- Build and train a pipeline model with the new LogisticRegression.\n",
    "- Perform the prediction on the test dataframe. \n",
    "- Select and show both prediction and label columns.\n",
    "- Explore the results for the label column stroke=1. i.e. select both columns (prediction,stroke) for stroke=1.<b>notice the result.</b> \n",
    "- Count the predicted 1 and 0 values.<b>notice the result.</b>   \n",
    "- Evaluate the model performance exactly as in the previous step.\n",
    "### YOU SHOULD OBTAIN  ROC > 0.65\n",
    "<BR>\n",
    "<b><font color='red'>Note: feel free to deal with the imbalanced cluster with the above method or another. However, you can only use methods applied on SPARK DATAFRAME</font></b>"
   ]
  },
  {
   "cell_type": "code",
   "execution_count": 47,
   "metadata": {
    "colab": {
     "base_uri": "https://localhost:8080/"
    },
    "id": "ZaBF6JVyKvYs",
    "outputId": "2e6c6e30-f814-45ef-80e7-b4ffb01942f8"
   },
   "outputs": [
    {
     "data": {
      "text/plain": [
       "0.05025329280648427"
      ]
     },
     "execution_count": 47,
     "metadata": {},
     "output_type": "execute_result"
    }
   ],
   "source": [
    "wight_1=1-df_filtered.groupBy(\"stroke\").count().collect()[0][1]/df_filtered.count()\n",
    "wight_0=1-(df_filtered.groupBy(\"stroke\").count().collect()[1][1]/df_filtered.count())\n",
    "wight_0"
   ]
  },
  {
   "cell_type": "code",
   "execution_count": 48,
   "metadata": {
    "id": "ZkbqAmekKvYs"
   },
   "outputs": [],
   "source": [
    "from pyspark.sql.functions import udf\n",
    "stroke_weight_map = {0: wight_0, 1: wight_1}\n",
    "\n",
    "@udf(returnType=DoubleType())\n",
    "def impute_weight(stroke):\n",
    "  return stroke_weight_map[stroke]"
   ]
  },
  {
   "cell_type": "code",
   "execution_count": 54,
   "metadata": {
    "id": "ff2Ca-s7KvYs"
   },
   "outputs": [],
   "source": [
    "train=train.withColumn(\"weight\",impute_weight(train[\"stroke\"]))"
   ]
  },
  {
   "cell_type": "code",
   "execution_count": 55,
   "metadata": {
    "colab": {
     "base_uri": "https://localhost:8080/"
    },
    "id": "ZIockkhLKvYt",
    "outputId": "78811092-edf0-4226-bea7-92e6367ae010"
   },
   "outputs": [
    {
     "name": "stdout",
     "output_type": "stream",
     "text": [
      "+---+------+----+------------+-------------+------------+-------------+--------------+-----------------+------------------+--------------+------+-------------------+\n",
      "| id|Gender| age|hypertension|heart_disease|ever_married|    work_type|Residence_type|avg_glucose_level|               Bmi|smoking_status|stroke|             weight|\n",
      "+---+------+----+------------+-------------+------------+-------------+--------------+-----------------+------------------+--------------+------+-------------------+\n",
      "| 67|   0.0|17.0|           0|            0|          No|      Private|         Urban|            92.97|29.257489451476793|          0.75|     0|0.05025329280648427|\n",
      "| 77|   0.0|13.0|           0|            0|          No|     children|         Rural|            85.81|              18.6|           0.5|     0|0.05025329280648427|\n",
      "| 91|   0.0|42.0|           0|            0|          No|      Private|         Urban|            98.53|              18.5|           0.0|     0|0.05025329280648427|\n",
      "| 99|   0.0|31.0|           0|            0|          No|      Private|         Urban|           108.89|              52.3|           0.5|     0|0.05025329280648427|\n",
      "|121|   0.0|38.0|           0|            0|         Yes|      Private|         Urban|            91.44|29.257489451476793|           0.5|     0|0.05025329280648427|\n",
      "|132|   0.0|80.0|           0|            0|         Yes|     Govt_job|         Urban|            84.86|29.257489451476793|           0.5|     0|0.05025329280648427|\n",
      "|163|   0.0|20.0|           0|            0|          No|      Private|         Rural|            94.67|              28.8|           0.5|     0|0.05025329280648427|\n",
      "|170|   1.0|43.0|           0|            0|         Yes|     Govt_job|         Rural|            80.07|29.257489451476793|           0.0|     0|0.05025329280648427|\n",
      "|172|   1.0| 8.0|           0|            0|          No|     children|         Urban|            78.76|29.257489451476793|           0.5|     0|0.05025329280648427|\n",
      "|187|   0.0|20.0|           0|            0|          No|      Private|         Rural|            84.07|              27.6|           1.0|     0|0.05025329280648427|\n",
      "|210|   1.0|81.0|           0|            0|         Yes|Self-employed|         Rural|            91.54|              31.4|           0.0|     1| 0.9497467071935157|\n",
      "|224|   0.0|23.0|           0|            0|          No|      Private|         Urban|           110.16|29.257489451476793|           0.0|     0|0.05025329280648427|\n",
      "|239|   1.0|59.0|           1|            1|         Yes|      Private|         Rural|           246.53|              27.2|          0.75|     0|0.05025329280648427|\n",
      "|242|   1.0| 4.0|           0|            0|          No|     children|         Urban|            98.56|              17.5|           0.5|     0|0.05025329280648427|\n",
      "|247|   1.0|31.0|           0|            0|          No|      Private|         Urban|             72.6|              31.6|           0.0|     0|0.05025329280648427|\n",
      "|298|   0.0|41.0|           0|            0|         Yes|Self-employed|         Rural|            76.66|29.257489451476793|           0.5|     0|0.05025329280648427|\n",
      "|315|   1.0|45.0|           0|            0|         Yes|      Private|         Rural|            65.42|              39.7|           0.0|     0|0.05025329280648427|\n",
      "|321|   0.0|79.0|           0|            0|          No|Self-employed|         Rural|            71.98|              36.4|           0.0|     0|0.05025329280648427|\n",
      "|347|   0.0|16.0|           0|            0|          No|      Private|         Urban|            89.45|29.257489451476793|           0.5|     0|0.05025329280648427|\n",
      "|354|   0.0|65.0|           0|            0|         Yes|      Private|         Urban|            72.49|              28.9|           1.0|     0|0.05025329280648427|\n",
      "+---+------+----+------------+-------------+------------+-------------+--------------+-----------------+------------------+--------------+------+-------------------+\n",
      "only showing top 20 rows\n",
      "\n"
     ]
    }
   ],
   "source": [
    "train.show()"
   ]
  },
  {
   "cell_type": "code",
   "execution_count": 56,
   "metadata": {
    "id": "0TaZ1cAVKvYt"
   },
   "outputs": [],
   "source": [
    "lr = LogisticRegression(labelCol='stroke',featuresCol='features',weightCol=\"weight\")"
   ]
  },
  {
   "cell_type": "code",
   "execution_count": 57,
   "metadata": {
    "id": "4xAssF58MWxn"
   },
   "outputs": [],
   "source": [
    "stages = [stringIndexer, oheEncoder,assembler, lr]"
   ]
  },
  {
   "cell_type": "code",
   "execution_count": 58,
   "metadata": {
    "id": "mxc60siCMW5h"
   },
   "outputs": [],
   "source": [
    "pipeline = Pipeline(stages=stages)\n",
    "pipelineModel = pipeline.fit(train)"
   ]
  },
  {
   "cell_type": "code",
   "execution_count": 59,
   "metadata": {
    "id": "sFDQ2aVsMXAK"
   },
   "outputs": [],
   "source": [
    "predDF = pipelineModel.transform(test)"
   ]
  },
  {
   "cell_type": "markdown",
   "metadata": {
    "id": "pU-Qj2AFKvYt"
   },
   "source": [
    "i got an error and i think its becouse of installation problem in windows , update i used colab to continue the exam"
   ]
  },
  {
   "cell_type": "code",
   "execution_count": null,
   "metadata": {
    "id": "Pl9wuhOXKvYt"
   },
   "outputs": [],
   "source": []
  },
  {
   "cell_type": "code",
   "execution_count": 60,
   "metadata": {
    "colab": {
     "base_uri": "https://localhost:8080/"
    },
    "id": "Aj10Dk9-KvYt",
    "outputId": "0f147008-2a62-4ee0-9d43-1b11da5b104b"
   },
   "outputs": [
    {
     "data": {
      "text/plain": [
       "0.7553336166595834"
      ]
     },
     "execution_count": 60,
     "metadata": {},
     "output_type": "execute_result"
    }
   ],
   "source": [
    "evaluatorROC.evaluate(predDF)"
   ]
  },
  {
   "cell_type": "markdown",
   "metadata": {
    "id": "--u7u2F-KvYt"
   },
   "source": [
    "# GOOD LUCK\n",
    "<b><font color='GREEN'>AI-PRO Spark Team ITI</font></b>"
   ]
  },
  {
   "cell_type": "markdown",
   "metadata": {
    "id": "Ihny8PhNKvYt"
   },
   "source": [
    "![image-3.png](attachment:image-3.png)"
   ]
  }
 ],
 "metadata": {
  "colab": {
   "name": "Spark and Python for Big Data Final Exam.ipynb",
   "provenance": []
  },
  "kernelspec": {
   "display_name": "Python 3",
   "language": "python",
   "name": "python3"
  },
  "language_info": {
   "codemirror_mode": {
    "name": "ipython",
    "version": 3
   },
   "file_extension": ".py",
   "mimetype": "text/x-python",
   "name": "python",
   "nbconvert_exporter": "python",
   "pygments_lexer": "ipython3",
   "version": "3.8.5"
  }
 },
 "nbformat": 4,
 "nbformat_minor": 5
}
